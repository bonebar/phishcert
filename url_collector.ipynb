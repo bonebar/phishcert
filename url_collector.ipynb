{
 "cells": [
  {
   "cell_type": "code",
   "execution_count": 48,
   "id": "a426d671-cff2-4a48-a685-b2151283a28c",
   "metadata": {},
   "outputs": [],
   "source": [
    "#### This script fetches URL's from OpenPhish every 2 minutes for 12 hours ####"
   ]
  },
  {
   "cell_type": "code",
   "execution_count": null,
   "id": "167f8930-6f69-41ac-8c87-822091acf150",
   "metadata": {},
   "outputs": [],
   "source": [
    "import urllib.request\n",
    "from urllib.parse import *\n",
    "import json\n",
    "import time"
   ]
  },
  {
   "cell_type": "code",
   "execution_count": 49,
   "id": "daab4dc9-ebfc-4328-8660-a99d265f1c6e",
   "metadata": {},
   "outputs": [],
   "source": [
    "t_end = time.time() + 60*60*12 \n",
    "while time.time() < t_end: #Script will stop after 12 hours\n",
    "    \n",
    "    completed = set()\n",
    "    \n",
    "    with open('full_url_collection.txt','w') as f:\n",
    "        time.sleep(120) #Gives a 2 minute break between requests to OpenPhish\n",
    "        with urllib.request.urlopen('https://eur01.safelinks.protection.outlook.com/?url=https%3A%2F%2Fopfeeds.s3-us-west-2.amazonaws.com%2FOPBL%2Fphishing_blocklist.txt&data=04%7C01%7C%7Ca805d751a2d745dcf8a108d9409b1562%7C1faf88fea9984c5b93c9210a11d9a5c2%7C0%7C0%7C637611857086044632%7CUnknown%7CTWFpbGZsb3d8eyJWIjoiMC4wLjAwMDAiLCJQIjoiV2luMzIiLCJBTiI6Ik1haWwiLCJXVCI6Mn0%3D%7C1000&sdata=3sjxkjIRDhWkf4LcXBAK3M9UTJBxZ8ww6uj51a7pPzo%3D&reserved=0') as response:\n",
    "            html = response.read()\n",
    "            for link in html.decode('utf-8').split('\\n'): #Decodes from bytes to string whilst putting each URL on a new line\n",
    "                if link not in completed: # 'if' condition prevents duplicates\n",
    "                    f.write(link+'\\n')\n",
    "                    completed.add(link)\n",
    "        \n",
    "        \n",
    "        "
   ]
  },
  {
   "cell_type": "code",
   "execution_count": null,
   "id": "544c8298-61a4-4f71-9716-d289c831267b",
   "metadata": {},
   "outputs": [],
   "source": []
  }
 ],
 "metadata": {
  "kernelspec": {
   "display_name": "Python 3",
   "language": "python",
   "name": "python3"
  },
  "language_info": {
   "codemirror_mode": {
    "name": "ipython",
    "version": 3
   },
   "file_extension": ".py",
   "mimetype": "text/x-python",
   "name": "python",
   "nbconvert_exporter": "python",
   "pygments_lexer": "ipython3",
   "version": "3.9.2"
  }
 },
 "nbformat": 4,
 "nbformat_minor": 5
}
