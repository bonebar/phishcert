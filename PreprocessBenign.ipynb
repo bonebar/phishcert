{
 "cells": [
  {
   "cell_type": "code",
   "execution_count": null,
   "id": "4b576edf",
   "metadata": {},
   "outputs": [],
   "source": [
    "import pandas as pd\n",
    "from urllib.parse import urlparse\n",
    "import requests"
   ]
  },
  {
   "cell_type": "code",
   "execution_count": null,
   "id": "09459f8e",
   "metadata": {},
   "outputs": [],
   "source": [
    "#Top Websites from Majectic Million - https://majestic.com/reports/majestic-million\n",
    "df = pd.read_csv (r'majestic_million.csv')\n",
    "top = df['Domain'].tolist()\n",
    "topsites = top"
   ]
  },
  {
   "cell_type": "code",
   "execution_count": null,
   "id": "7dc33fd9",
   "metadata": {},
   "outputs": [],
   "source": [
    "#Preprocess, get the auto-redirected domain names\n",
    "topSites = []\n",
    "for url in topsites[20000:30000]:\n",
    "    print(str(topsites.index(url))+ ': ' + url)\n",
    "    retry = 0\n",
    "    while(retry < 3):\n",
    "        url = url if url.startswith('http') else ('http://' + url)\n",
    "        try:\n",
    "            r = requests.get(url, timeout = 2)\n",
    "        except:\n",
    "            print('retry')\n",
    "            retry += 1\n",
    "            continue\n",
    "        if r.history:\n",
    "            #print(r.url)\n",
    "            url = urlparse(r.url).netloc\n",
    "            #print(url)\n",
    "            topSites.append(url)\n",
    "            break\n",
    "        else:\n",
    "            url = urlparse(url).netloc\n",
    "            #print(url)\n",
    "            topSites.append(url)\n",
    "            break\n",
    "topSites "
   ]
  },
  {
   "cell_type": "code",
   "execution_count": null,
   "id": "9e610698",
   "metadata": {},
   "outputs": [],
   "source": [
    "#Save to txt file\n",
    "with open('bengignProcessed2.txt', 'w') as f:\n",
    "    for item in topSites:\n",
    "        f.write(\"%s\\n\" % item)"
   ]
  }
 ],
 "metadata": {
  "kernelspec": {
   "display_name": "Python 3",
   "language": "python",
   "name": "python3"
  },
  "language_info": {
   "codemirror_mode": {
    "name": "ipython",
    "version": 3
   },
   "file_extension": ".py",
   "mimetype": "text/x-python",
   "name": "python",
   "nbconvert_exporter": "python",
   "pygments_lexer": "ipython3",
   "version": "3.7.4"
  }
 },
 "nbformat": 4,
 "nbformat_minor": 5
}
